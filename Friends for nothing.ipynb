{
 "cells": [
  {
   "cell_type": "markdown",
   "id": "08188d87-298d-48be-a69a-e464796296c1",
   "metadata": {},
   "source": [
    "# Data processing"
   ]
  },
  {
   "cell_type": "code",
   "execution_count": 1,
   "id": "6e6d53c5-76bb-4299-8e23-8491ec89d493",
   "metadata": {},
   "outputs": [
    {
     "name": "stdout",
     "output_type": "stream",
     "text": [
      "WARNING:tensorflow:From C:\\Users\\saira\\AppData\\Local\\Programs\\Python\\Python311\\Lib\\site-packages\\keras\\src\\losses.py:2976: The name tf.losses.sparse_softmax_cross_entropy is deprecated. Please use tf.compat.v1.losses.sparse_softmax_cross_entropy instead.\n",
      "\n"
     ]
    }
   ],
   "source": [
    "from keras.models import Sequential\n",
    "from keras.layers import Convolution2D\n",
    "from keras.layers import MaxPooling2D\n",
    "from keras.layers import Flatten\n",
    "from keras.layers import Dense , Dropout\n",
    "import os"
   ]
  },
  {
   "cell_type": "code",
   "execution_count": 17,
   "id": "fe084fb9-99ee-4350-a8a8-c1debd74bf49",
   "metadata": {},
   "outputs": [],
   "source": [
    "sz = 128 "
   ]
  },
  {
   "cell_type": "markdown",
   "id": "562f9e57-0cd6-459c-a96f-7997cbf3457b",
   "metadata": {},
   "source": [
    "# Initialising our first Convolution network model "
   ]
  },
  {
   "cell_type": "code",
   "execution_count": 30,
   "id": "c8356268-2817-4331-8713-01aea8d974a2",
   "metadata": {},
   "outputs": [],
   "source": [
    "classifier = Sequential() "
   ]
  },
  {
   "cell_type": "code",
   "execution_count": 31,
   "id": "6e769855-742d-458e-bda9-b0eab1d1241a",
   "metadata": {},
   "outputs": [],
   "source": [
    "# First convolution network and pooling\n",
    "\n",
    "\n",
    "# First convolution layer and pooling\n",
    "classifier.add(Convolution2D(32, (3, 3), input_shape=(sz, sz, 1), activation='relu'))\n",
    "classifier.add(MaxPooling2D(pool_size=(2, 2)))\n",
    "# Second convolution layer and pooling\n",
    "classifier.add(Convolution2D(32, (3, 3), activation='relu'))\n",
    "# input_shape is going to be the pooled feature maps from the previous convolution layer\n",
    "classifier.add(MaxPooling2D(pool_size=(2, 2)))\n",
    "#classifier.add(Convolution2D(32, (3, 3), activation='relu'))\n",
    "# input_shape is going to be the pooled feature maps from the previous convolution layer\n",
    "#classifier.add(MaxPooling2D(pool_size=(2, 2)))\n",
    "\n",
    "# Flattening the layers\n",
    "classifier.add(Flatten())\n",
    "\n",
    "\n",
    "# Adding a fully connected layer\n",
    "classifier.add(Dense(units=128, activation='relu'))\n",
    "classifier.add(Dropout(0.40))\n",
    "classifier.add(Dense(units=96, activation='relu'))\n",
    "classifier.add(Dropout(0.40))\n",
    "classifier.add(Dense(units=64, activation='relu'))\n",
    "classifier.add(Dense(units=27, activation='softmax')) # softmax for more than 2\n",
    "\n",
    "# Compiling the CNN\n",
    "classifier.compile(optimizer='adam', loss='categorical_crossentropy', metrics=['accuracy']) # categorical_crossentropy for more than 2\n",
    "\n"
   ]
  },
  {
   "cell_type": "code",
   "execution_count": 32,
   "id": "f278cc57-d0bf-4957-aa22-0b49fecab482",
   "metadata": {},
   "outputs": [
    {
     "name": "stdout",
     "output_type": "stream",
     "text": [
      "Model: \"sequential_4\"\n",
      "_________________________________________________________________\n",
      " Layer (type)                Output Shape              Param #   \n",
      "=================================================================\n",
      " conv2d_6 (Conv2D)           (None, 126, 126, 32)      320       \n",
      "                                                                 \n",
      " max_pooling2d_6 (MaxPoolin  (None, 63, 63, 32)        0         \n",
      " g2D)                                                            \n",
      "                                                                 \n",
      " conv2d_7 (Conv2D)           (None, 61, 61, 32)        9248      \n",
      "                                                                 \n",
      " max_pooling2d_7 (MaxPoolin  (None, 30, 30, 32)        0         \n",
      " g2D)                                                            \n",
      "                                                                 \n",
      " flatten_3 (Flatten)         (None, 28800)             0         \n",
      "                                                                 \n",
      " dense_12 (Dense)            (None, 128)               3686528   \n",
      "                                                                 \n",
      " dropout_6 (Dropout)         (None, 128)               0         \n",
      "                                                                 \n",
      " dense_13 (Dense)            (None, 96)                12384     \n",
      "                                                                 \n",
      " dropout_7 (Dropout)         (None, 96)                0         \n",
      "                                                                 \n",
      " dense_14 (Dense)            (None, 64)                6208      \n",
      "                                                                 \n",
      " dense_15 (Dense)            (None, 27)                1755      \n",
      "                                                                 \n",
      "=================================================================\n",
      "Total params: 3716443 (14.18 MB)\n",
      "Trainable params: 3716443 (14.18 MB)\n",
      "Non-trainable params: 0 (0.00 Byte)\n",
      "_________________________________________________________________\n"
     ]
    }
   ],
   "source": [
    "classifier.summary()\n"
   ]
  },
  {
   "cell_type": "code",
   "execution_count": 33,
   "id": "2fa1f837-bb85-41a2-808c-50b3d9adc8a0",
   "metadata": {},
   "outputs": [],
   "source": [
    "from keras.preprocessing.image import ImageDataGenerator\n"
   ]
  },
  {
   "cell_type": "code",
   "execution_count": 65,
   "id": "3914b4f1-d107-4ef9-b248-9b8358b5a014",
   "metadata": {},
   "outputs": [
    {
     "name": "stdout",
     "output_type": "stream",
     "text": [
      "Found 648 images belonging to 27 classes.\n",
      "Found 162 images belonging to 27 classes.\n"
     ]
    }
   ],
   "source": [
    "train_datagen = ImageDataGenerator(\n",
    "        rescale=1./255,\n",
    "        shear_range=0.2,\n",
    "        zoom_range=0.2,\n",
    "        horizontal_flip=True)\n",
    "\n",
    "sz=128\n",
    "\n",
    "\n",
    "test_datagen = ImageDataGenerator(rescale=1./255)\n",
    "\n",
    "training_set = train_datagen.flow_from_directory('ProcessedData128/train',\n",
    "                                                 target_size=(sz, sz),\n",
    "                                                 batch_size=24,\n",
    "                                                 color_mode='grayscale',\n",
    "                                                 class_mode='categorical')\n",
    "\n",
    "test_set = test_datagen.flow_from_directory('ProcessedData128/test',\n",
    "                                            target_size=(sz , sz),\n",
    "                                            batch_size=27,\n",
    "                                            color_mode='grayscale',\n",
    "                                            class_mode='categorical') \n"
   ]
  },
  {
   "cell_type": "code",
   "execution_count": 35,
   "id": "220c10da-9545-4b59-b81e-5ad7e37dc994",
   "metadata": {},
   "outputs": [
    {
     "name": "stdout",
     "output_type": "stream",
     "text": [
      "Epoch 1/20\n",
      "27/27 [==============================] - 5s 154ms/step - loss: 3.3553 - accuracy: 0.0293 - val_loss: 3.2760 - val_accuracy: 0.1049\n",
      "Epoch 2/20\n",
      "27/27 [==============================] - 4s 146ms/step - loss: 3.2308 - accuracy: 0.0741 - val_loss: 3.0516 - val_accuracy: 0.1728\n",
      "Epoch 3/20\n",
      "27/27 [==============================] - 4s 139ms/step - loss: 2.8675 - accuracy: 0.1914 - val_loss: 1.8888 - val_accuracy: 0.6358\n",
      "Epoch 4/20\n",
      "27/27 [==============================] - 4s 139ms/step - loss: 2.2172 - accuracy: 0.3256 - val_loss: 0.8713 - val_accuracy: 0.8951\n",
      "Epoch 5/20\n",
      "27/27 [==============================] - 4s 140ms/step - loss: 1.5602 - accuracy: 0.5355 - val_loss: 0.3961 - val_accuracy: 0.9321\n",
      "Epoch 6/20\n",
      "27/27 [==============================] - 4s 137ms/step - loss: 1.2539 - accuracy: 0.6373 - val_loss: 0.3240 - val_accuracy: 0.9074\n",
      "Epoch 7/20\n",
      "27/27 [==============================] - 4s 136ms/step - loss: 1.0150 - accuracy: 0.7114 - val_loss: 0.2038 - val_accuracy: 0.9383\n",
      "Epoch 8/20\n",
      "27/27 [==============================] - 4s 138ms/step - loss: 0.7823 - accuracy: 0.7762 - val_loss: 0.2045 - val_accuracy: 0.9444\n",
      "Epoch 9/20\n",
      "27/27 [==============================] - 4s 138ms/step - loss: 0.6267 - accuracy: 0.8179 - val_loss: 0.1353 - val_accuracy: 0.9630\n",
      "Epoch 10/20\n",
      "27/27 [==============================] - 4s 146ms/step - loss: 0.5916 - accuracy: 0.8318 - val_loss: 0.1916 - val_accuracy: 0.9630\n",
      "Epoch 11/20\n",
      "27/27 [==============================] - 4s 140ms/step - loss: 0.4920 - accuracy: 0.8565 - val_loss: 0.1954 - val_accuracy: 0.9568\n",
      "Epoch 12/20\n",
      "27/27 [==============================] - 4s 139ms/step - loss: 0.4066 - accuracy: 0.8750 - val_loss: 0.2865 - val_accuracy: 0.9691\n",
      "Epoch 13/20\n",
      "27/27 [==============================] - 4s 140ms/step - loss: 0.4390 - accuracy: 0.8488 - val_loss: 0.1539 - val_accuracy: 0.9568\n",
      "Epoch 14/20\n",
      "27/27 [==============================] - 4s 139ms/step - loss: 0.3865 - accuracy: 0.8657 - val_loss: 0.3241 - val_accuracy: 0.9568\n",
      "Epoch 15/20\n",
      "27/27 [==============================] - 4s 138ms/step - loss: 0.3205 - accuracy: 0.8981 - val_loss: 0.2075 - val_accuracy: 0.9691\n",
      "Epoch 16/20\n",
      "27/27 [==============================] - 4s 142ms/step - loss: 0.3167 - accuracy: 0.9012 - val_loss: 0.1210 - val_accuracy: 0.9691\n",
      "Epoch 17/20\n",
      "27/27 [==============================] - 4s 139ms/step - loss: 0.2751 - accuracy: 0.9105 - val_loss: 0.2025 - val_accuracy: 0.9691\n",
      "Epoch 18/20\n",
      "27/27 [==============================] - 4s 141ms/step - loss: 0.2704 - accuracy: 0.9105 - val_loss: 0.2201 - val_accuracy: 0.9691\n",
      "Epoch 19/20\n",
      "27/27 [==============================] - 4s 141ms/step - loss: 0.2380 - accuracy: 0.9213 - val_loss: 0.2456 - val_accuracy: 0.9691\n",
      "Epoch 20/20\n",
      "27/27 [==============================] - 4s 143ms/step - loss: 0.2421 - accuracy: 0.9198 - val_loss: 0.2647 - val_accuracy: 0.9691\n"
     ]
    },
    {
     "data": {
      "text/plain": [
       "<keras.src.callbacks.History at 0x17935331b50>"
      ]
     },
     "execution_count": 35,
     "metadata": {},
     "output_type": "execute_result"
    }
   ],
   "source": [
    "classifier.fit(\n",
    "        training_set,\n",
    "        epochs=20,\n",
    "        verbose=1, \n",
    "        validation_data=test_set,\n",
    ")# No of images in test set"
   ]
  },
  {
   "cell_type": "code",
   "execution_count": 36,
   "id": "22b85d84-68a8-442d-867b-ee67c7b8678a",
   "metadata": {},
   "outputs": [
    {
     "name": "stdout",
     "output_type": "stream",
     "text": [
      "27/27 [==============================] - 0s 10ms/step - loss: 0.2647 - accuracy: 0.9691\n"
     ]
    },
    {
     "data": {
      "text/plain": [
       "[0.26471492648124695, 0.9691358208656311]"
      ]
     },
     "execution_count": 36,
     "metadata": {},
     "output_type": "execute_result"
    }
   ],
   "source": [
    "classifier.evaluate(test_set)"
   ]
  },
  {
   "cell_type": "code",
   "execution_count": 38,
   "id": "d6636d8e-2b6c-45ef-97da-244237ef3841",
   "metadata": {},
   "outputs": [],
   "source": [
    "path = 'E:/MachineLearning/SignDetectionSystemUsingMachineLearning/models/SignDetection.h5' \n",
    "classifier.save(path)"
   ]
  },
  {
   "cell_type": "markdown",
   "id": "6cf326eb-aa3d-43c3-af4f-4a16978ce17b",
   "metadata": {},
   "source": [
    "# Loading saved model"
   ]
  },
  {
   "cell_type": "code",
   "execution_count": 6,
   "id": "0b901014-35d3-40d0-aa75-12a04779c33a",
   "metadata": {},
   "outputs": [
    {
     "name": "stdout",
     "output_type": "stream",
     "text": [
      "Found 648 images belonging to 27 classes.\n",
      "Found 162 images belonging to 27 classes.\n"
     ]
    }
   ],
   "source": [
    "from keras.preprocessing.image import ImageDataGenerator\n",
    "\n",
    "\n",
    "train_datagen = ImageDataGenerator(\n",
    "        rescale=1./255,\n",
    "        shear_range=0.2,\n",
    "        zoom_range=0.2,\n",
    "        horizontal_flip=True)\n",
    "\n",
    "sz=128\n",
    "\n",
    "\n",
    "test_datagen = ImageDataGenerator(rescale=1./255)\n",
    "\n",
    "training_set = train_datagen.flow_from_directory('ProcessedData128/train',\n",
    "                                                 target_size=(sz, sz),\n",
    "                                                 batch_size=24,\n",
    "                                                 color_mode='grayscale',\n",
    "                                                 class_mode='categorical')\n",
    "\n",
    "test_set = test_datagen.flow_from_directory('ProcessedData128/test',\n",
    "                                            target_size=(sz , sz),\n",
    "                                            batch_size=6,\n",
    "                                            color_mode='grayscale',\n",
    "                                            class_mode='categorical') \n"
   ]
  },
  {
   "cell_type": "code",
   "execution_count": 34,
   "id": "31368041-5d65-491c-afce-6cacdaf356dd",
   "metadata": {},
   "outputs": [],
   "source": [
    "from tensorflow.keras.models import load_model\n",
    "path = 'E:/MachineLearning/SignDetectionSystemUsingMachineLearning/models/SignDetection.h5' \n",
    "\n",
    "\n",
    "savedModel=load_model(path)"
   ]
  },
  {
   "cell_type": "code",
   "execution_count": 8,
   "id": "e549be8b-36b6-49f7-96e2-1b533ec7c641",
   "metadata": {},
   "outputs": [
    {
     "name": "stdout",
     "output_type": "stream",
     "text": [
      "Model: \"sequential_4\"\n",
      "_________________________________________________________________\n",
      " Layer (type)                Output Shape              Param #   \n",
      "=================================================================\n",
      " conv2d_6 (Conv2D)           (None, 126, 126, 32)      320       \n",
      "                                                                 \n",
      " max_pooling2d_6 (MaxPoolin  (None, 63, 63, 32)        0         \n",
      " g2D)                                                            \n",
      "                                                                 \n",
      " conv2d_7 (Conv2D)           (None, 61, 61, 32)        9248      \n",
      "                                                                 \n",
      " max_pooling2d_7 (MaxPoolin  (None, 30, 30, 32)        0         \n",
      " g2D)                                                            \n",
      "                                                                 \n",
      " flatten_3 (Flatten)         (None, 28800)             0         \n",
      "                                                                 \n",
      " dense_12 (Dense)            (None, 128)               3686528   \n",
      "                                                                 \n",
      " dropout_6 (Dropout)         (None, 128)               0         \n",
      "                                                                 \n",
      " dense_13 (Dense)            (None, 96)                12384     \n",
      "                                                                 \n",
      " dropout_7 (Dropout)         (None, 96)                0         \n",
      "                                                                 \n",
      " dense_14 (Dense)            (None, 64)                6208      \n",
      "                                                                 \n",
      " dense_15 (Dense)            (None, 27)                1755      \n",
      "                                                                 \n",
      "=================================================================\n",
      "Total params: 3716443 (14.18 MB)\n",
      "Trainable params: 3716443 (14.18 MB)\n",
      "Non-trainable params: 0 (0.00 Byte)\n",
      "_________________________________________________________________\n"
     ]
    }
   ],
   "source": [
    "savedModel.summary()"
   ]
  },
  {
   "cell_type": "code",
   "execution_count": 9,
   "id": "03e6c390-8b7f-430d-b4a0-68ccdcdef7a0",
   "metadata": {},
   "outputs": [
    {
     "name": "stdout",
     "output_type": "stream",
     "text": [
      "27/27 [==============================] - 1s 12ms/step - loss: 0.2647 - accuracy: 0.9691\n"
     ]
    },
    {
     "data": {
      "text/plain": [
       "[0.26471492648124695, 0.9691358208656311]"
      ]
     },
     "execution_count": 9,
     "metadata": {},
     "output_type": "execute_result"
    }
   ],
   "source": [
    "savedModel.evaluate(test_set)"
   ]
  },
  {
   "cell_type": "markdown",
   "id": "6f125af2-b284-4772-a86f-f9bf1a3e7a83",
   "metadata": {},
   "source": [
    "# Let us predict our output and visualise it"
   ]
  },
  {
   "cell_type": "code",
   "execution_count": 66,
   "id": "e74d65bc-4b12-4960-a14a-f4ddc2c2104b",
   "metadata": {},
   "outputs": [
    {
     "name": "stdout",
     "output_type": "stream",
     "text": [
      "6/6 [==============================] - 0s 33ms/step\n"
     ]
    }
   ],
   "source": [
    "predicted = savedModel.predict(test_set)"
   ]
  },
  {
   "cell_type": "code",
   "execution_count": 67,
   "id": "cf92b4f8-c13e-4a74-9666-df07ff48d6c1",
   "metadata": {},
   "outputs": [
    {
     "data": {
      "text/plain": [
       "array([[2.87021373e-22, 9.88655131e-08, 6.01632513e-13, ...,\n",
       "        1.45482888e-17, 1.61100917e-21, 2.90460605e-18],\n",
       "       [1.46644772e-04, 4.70096184e-09, 3.99430570e-13, ...,\n",
       "        1.02810766e-07, 5.86124171e-09, 8.42133377e-11],\n",
       "       [1.05477261e-16, 1.63120586e-10, 6.11653228e-11, ...,\n",
       "        3.46650327e-20, 1.74185108e-20, 2.08537987e-15],\n",
       "       ...,\n",
       "       [4.61386083e-13, 1.27755930e-14, 7.33509919e-09, ...,\n",
       "        1.82705837e-10, 9.99997735e-01, 1.48094384e-10],\n",
       "       [5.91800674e-23, 1.04226632e-22, 2.97015432e-18, ...,\n",
       "        4.27967170e-23, 9.79803570e-28, 1.00000000e+00],\n",
       "       [9.16548792e-09, 1.90186200e-11, 1.20065557e-09, ...,\n",
       "        3.24666093e-11, 7.34663814e-08, 1.50621833e-12]], dtype=float32)"
      ]
     },
     "execution_count": 67,
     "metadata": {},
     "output_type": "execute_result"
    }
   ],
   "source": [
    "predicted"
   ]
  },
  {
   "cell_type": "code",
   "execution_count": 68,
   "id": "0ab9aacc-6f28-45a0-bb0a-918b78e25900",
   "metadata": {},
   "outputs": [
    {
     "data": {
      "text/plain": [
       "<keras.src.preprocessing.image.DirectoryIterator at 0x22f4d7ec710>"
      ]
     },
     "execution_count": 68,
     "metadata": {},
     "output_type": "execute_result"
    }
   ],
   "source": [
    "test_set\n"
   ]
  },
  {
   "cell_type": "code",
   "execution_count": 69,
   "id": "cd0d359e-9168-476d-897f-0468f531d3f3",
   "metadata": {},
   "outputs": [
    {
     "data": {
      "text/plain": [
       "(array([[[[0.9960785 ],\n",
       "          [1.        ],\n",
       "          [1.        ],\n",
       "          ...,\n",
       "          [1.        ],\n",
       "          [0.98823535],\n",
       "          [1.        ]],\n",
       " \n",
       "         [[0.9921569 ],\n",
       "          [1.        ],\n",
       "          [0.98823535],\n",
       "          ...,\n",
       "          [0.9960785 ],\n",
       "          [1.        ],\n",
       "          [0.98823535]],\n",
       " \n",
       "         [[1.        ],\n",
       "          [1.        ],\n",
       "          [1.        ],\n",
       "          ...,\n",
       "          [1.        ],\n",
       "          [1.        ],\n",
       "          [1.        ]],\n",
       " \n",
       "         ...,\n",
       " \n",
       "         [[0.9843138 ],\n",
       "          [1.        ],\n",
       "          [1.        ],\n",
       "          ...,\n",
       "          [1.        ],\n",
       "          [0.9960785 ],\n",
       "          [1.        ]],\n",
       " \n",
       "         [[1.        ],\n",
       "          [0.9960785 ],\n",
       "          [0.9921569 ],\n",
       "          ...,\n",
       "          [1.        ],\n",
       "          [1.        ],\n",
       "          [1.        ]],\n",
       " \n",
       "         [[0.9960785 ],\n",
       "          [0.9960785 ],\n",
       "          [1.        ],\n",
       "          ...,\n",
       "          [0.9960785 ],\n",
       "          [1.        ],\n",
       "          [1.        ]]],\n",
       " \n",
       " \n",
       "        [[[1.        ],\n",
       "          [1.        ],\n",
       "          [0.98823535],\n",
       "          ...,\n",
       "          [1.        ],\n",
       "          [1.        ],\n",
       "          [1.        ]],\n",
       " \n",
       "         [[0.9921569 ],\n",
       "          [1.        ],\n",
       "          [1.        ],\n",
       "          ...,\n",
       "          [1.        ],\n",
       "          [0.9960785 ],\n",
       "          [1.        ]],\n",
       " \n",
       "         [[1.        ],\n",
       "          [0.98823535],\n",
       "          [0.98823535],\n",
       "          ...,\n",
       "          [1.        ],\n",
       "          [0.9960785 ],\n",
       "          [1.        ]],\n",
       " \n",
       "         ...,\n",
       " \n",
       "         [[1.        ],\n",
       "          [1.        ],\n",
       "          [0.98823535],\n",
       "          ...,\n",
       "          [1.        ],\n",
       "          [1.        ],\n",
       "          [0.98823535]],\n",
       " \n",
       "         [[0.9960785 ],\n",
       "          [1.        ],\n",
       "          [0.9960785 ],\n",
       "          ...,\n",
       "          [0.9921569 ],\n",
       "          [1.        ],\n",
       "          [0.9960785 ]],\n",
       " \n",
       "         [[1.        ],\n",
       "          [0.9921569 ],\n",
       "          [1.        ],\n",
       "          ...,\n",
       "          [0.9921569 ],\n",
       "          [1.        ],\n",
       "          [1.        ]]],\n",
       " \n",
       " \n",
       "        [[[1.        ],\n",
       "          [0.9921569 ],\n",
       "          [1.        ],\n",
       "          ...,\n",
       "          [1.        ],\n",
       "          [0.9960785 ],\n",
       "          [1.        ]],\n",
       " \n",
       "         [[0.98823535],\n",
       "          [1.        ],\n",
       "          [0.9921569 ],\n",
       "          ...,\n",
       "          [0.9960785 ],\n",
       "          [1.        ],\n",
       "          [1.        ]],\n",
       " \n",
       "         [[1.        ],\n",
       "          [1.        ],\n",
       "          [1.        ],\n",
       "          ...,\n",
       "          [1.        ],\n",
       "          [0.9960785 ],\n",
       "          [0.98823535]],\n",
       " \n",
       "         ...,\n",
       " \n",
       "         [[1.        ],\n",
       "          [0.9960785 ],\n",
       "          [0.9921569 ],\n",
       "          ...,\n",
       "          [1.        ],\n",
       "          [1.        ],\n",
       "          [0.9921569 ]],\n",
       " \n",
       "         [[1.        ],\n",
       "          [1.        ],\n",
       "          [1.        ],\n",
       "          ...,\n",
       "          [0.9960785 ],\n",
       "          [1.        ],\n",
       "          [0.9960785 ]],\n",
       " \n",
       "         [[1.        ],\n",
       "          [0.9921569 ],\n",
       "          [1.        ],\n",
       "          ...,\n",
       "          [1.        ],\n",
       "          [0.9960785 ],\n",
       "          [1.        ]]],\n",
       " \n",
       " \n",
       "        ...,\n",
       " \n",
       " \n",
       "        [[[0.9960785 ],\n",
       "          [1.        ],\n",
       "          [1.        ],\n",
       "          ...,\n",
       "          [0.9843138 ],\n",
       "          [1.        ],\n",
       "          [1.        ]],\n",
       " \n",
       "         [[1.        ],\n",
       "          [0.9960785 ],\n",
       "          [0.9960785 ],\n",
       "          ...,\n",
       "          [1.        ],\n",
       "          [0.9921569 ],\n",
       "          [1.        ]],\n",
       " \n",
       "         [[1.        ],\n",
       "          [1.        ],\n",
       "          [1.        ],\n",
       "          ...,\n",
       "          [0.9803922 ],\n",
       "          [1.        ],\n",
       "          [0.98823535]],\n",
       " \n",
       "         ...,\n",
       " \n",
       "         [[0.9960785 ],\n",
       "          [1.        ],\n",
       "          [1.        ],\n",
       "          ...,\n",
       "          [1.        ],\n",
       "          [1.        ],\n",
       "          [1.        ]],\n",
       " \n",
       "         [[1.        ],\n",
       "          [1.        ],\n",
       "          [0.9960785 ],\n",
       "          ...,\n",
       "          [0.98823535],\n",
       "          [1.        ],\n",
       "          [0.98823535]],\n",
       " \n",
       "         [[0.9921569 ],\n",
       "          [1.        ],\n",
       "          [1.        ],\n",
       "          ...,\n",
       "          [1.        ],\n",
       "          [1.        ],\n",
       "          [1.        ]]],\n",
       " \n",
       " \n",
       "        [[[1.        ],\n",
       "          [1.        ],\n",
       "          [0.9921569 ],\n",
       "          ...,\n",
       "          [1.        ],\n",
       "          [0.9960785 ],\n",
       "          [1.        ]],\n",
       " \n",
       "         [[0.9921569 ],\n",
       "          [0.98823535],\n",
       "          [1.        ],\n",
       "          ...,\n",
       "          [0.9960785 ],\n",
       "          [1.        ],\n",
       "          [1.        ]],\n",
       " \n",
       "         [[1.        ],\n",
       "          [1.        ],\n",
       "          [0.9921569 ],\n",
       "          ...,\n",
       "          [1.        ],\n",
       "          [0.9960785 ],\n",
       "          [0.98823535]],\n",
       " \n",
       "         ...,\n",
       " \n",
       "         [[0.9960785 ],\n",
       "          [1.        ],\n",
       "          [1.        ],\n",
       "          ...,\n",
       "          [0.9960785 ],\n",
       "          [1.        ],\n",
       "          [0.9960785 ]],\n",
       " \n",
       "         [[1.        ],\n",
       "          [1.        ],\n",
       "          [0.9960785 ],\n",
       "          ...,\n",
       "          [0.9960785 ],\n",
       "          [1.        ],\n",
       "          [0.98823535]],\n",
       " \n",
       "         [[0.9921569 ],\n",
       "          [1.        ],\n",
       "          [1.        ],\n",
       "          ...,\n",
       "          [1.        ],\n",
       "          [0.9960785 ],\n",
       "          [1.        ]]],\n",
       " \n",
       " \n",
       "        [[[1.        ],\n",
       "          [1.        ],\n",
       "          [1.        ],\n",
       "          ...,\n",
       "          [1.        ],\n",
       "          [0.9960785 ],\n",
       "          [1.        ]],\n",
       " \n",
       "         [[0.9960785 ],\n",
       "          [1.        ],\n",
       "          [0.9960785 ],\n",
       "          ...,\n",
       "          [0.98823535],\n",
       "          [0.9960785 ],\n",
       "          [1.        ]],\n",
       " \n",
       "         [[1.        ],\n",
       "          [1.        ],\n",
       "          [0.9960785 ],\n",
       "          ...,\n",
       "          [1.        ],\n",
       "          [1.        ],\n",
       "          [1.        ]],\n",
       " \n",
       "         ...,\n",
       " \n",
       "         [[1.        ],\n",
       "          [0.9960785 ],\n",
       "          [0.9921569 ],\n",
       "          ...,\n",
       "          [1.        ],\n",
       "          [0.9960785 ],\n",
       "          [0.9960785 ]],\n",
       " \n",
       "         [[1.        ],\n",
       "          [1.        ],\n",
       "          [1.        ],\n",
       "          ...,\n",
       "          [0.98823535],\n",
       "          [0.9960785 ],\n",
       "          [1.        ]],\n",
       " \n",
       "         [[1.        ],\n",
       "          [0.9921569 ],\n",
       "          [1.        ],\n",
       "          ...,\n",
       "          [1.        ],\n",
       "          [1.        ],\n",
       "          [0.9960785 ]]]], dtype=float32),\n",
       " array([[0., 0., 0., 0., 0., 0., 0., 0., 0., 0., 0., 1., 0., 0., 0., 0.,\n",
       "         0., 0., 0., 0., 0., 0., 0., 0., 0., 0., 0.],\n",
       "        [0., 0., 0., 0., 0., 0., 0., 0., 0., 0., 0., 0., 0., 0., 0., 0.,\n",
       "         0., 0., 0., 0., 1., 0., 0., 0., 0., 0., 0.],\n",
       "        [0., 0., 0., 0., 1., 0., 0., 0., 0., 0., 0., 0., 0., 0., 0., 0.,\n",
       "         0., 0., 0., 0., 0., 0., 0., 0., 0., 0., 0.],\n",
       "        [0., 0., 0., 0., 0., 0., 0., 0., 0., 0., 0., 0., 1., 0., 0., 0.,\n",
       "         0., 0., 0., 0., 0., 0., 0., 0., 0., 0., 0.],\n",
       "        [0., 0., 1., 0., 0., 0., 0., 0., 0., 0., 0., 0., 0., 0., 0., 0.,\n",
       "         0., 0., 0., 0., 0., 0., 0., 0., 0., 0., 0.],\n",
       "        [0., 0., 0., 0., 0., 0., 0., 0., 1., 0., 0., 0., 0., 0., 0., 0.,\n",
       "         0., 0., 0., 0., 0., 0., 0., 0., 0., 0., 0.],\n",
       "        [1., 0., 0., 0., 0., 0., 0., 0., 0., 0., 0., 0., 0., 0., 0., 0.,\n",
       "         0., 0., 0., 0., 0., 0., 0., 0., 0., 0., 0.],\n",
       "        [0., 0., 0., 0., 0., 0., 0., 0., 0., 0., 0., 0., 0., 0., 1., 0.,\n",
       "         0., 0., 0., 0., 0., 0., 0., 0., 0., 0., 0.],\n",
       "        [0., 0., 0., 0., 0., 0., 0., 0., 0., 0., 0., 0., 0., 1., 0., 0.,\n",
       "         0., 0., 0., 0., 0., 0., 0., 0., 0., 0., 0.],\n",
       "        [0., 0., 0., 0., 0., 0., 1., 0., 0., 0., 0., 0., 0., 0., 0., 0.,\n",
       "         0., 0., 0., 0., 0., 0., 0., 0., 0., 0., 0.],\n",
       "        [0., 0., 0., 0., 0., 0., 0., 0., 0., 0., 0., 0., 0., 0., 0., 0.,\n",
       "         1., 0., 0., 0., 0., 0., 0., 0., 0., 0., 0.],\n",
       "        [0., 0., 0., 0., 0., 0., 0., 0., 0., 0., 0., 0., 0., 0., 1., 0.,\n",
       "         0., 0., 0., 0., 0., 0., 0., 0., 0., 0., 0.],\n",
       "        [0., 1., 0., 0., 0., 0., 0., 0., 0., 0., 0., 0., 0., 0., 0., 0.,\n",
       "         0., 0., 0., 0., 0., 0., 0., 0., 0., 0., 0.],\n",
       "        [0., 0., 0., 1., 0., 0., 0., 0., 0., 0., 0., 0., 0., 0., 0., 0.,\n",
       "         0., 0., 0., 0., 0., 0., 0., 0., 0., 0., 0.],\n",
       "        [0., 0., 0., 0., 0., 0., 1., 0., 0., 0., 0., 0., 0., 0., 0., 0.,\n",
       "         0., 0., 0., 0., 0., 0., 0., 0., 0., 0., 0.],\n",
       "        [0., 0., 0., 0., 0., 0., 0., 0., 0., 0., 0., 0., 1., 0., 0., 0.,\n",
       "         0., 0., 0., 0., 0., 0., 0., 0., 0., 0., 0.],\n",
       "        [0., 0., 0., 0., 0., 0., 0., 0., 0., 0., 0., 0., 0., 0., 0., 0.,\n",
       "         0., 0., 0., 0., 0., 1., 0., 0., 0., 0., 0.],\n",
       "        [0., 0., 0., 0., 0., 0., 0., 0., 0., 0., 0., 0., 0., 0., 0., 0.,\n",
       "         0., 0., 0., 0., 0., 0., 0., 0., 1., 0., 0.],\n",
       "        [0., 0., 0., 0., 0., 0., 0., 0., 0., 0., 0., 0., 0., 0., 0., 1.,\n",
       "         0., 0., 0., 0., 0., 0., 0., 0., 0., 0., 0.],\n",
       "        [0., 0., 0., 0., 1., 0., 0., 0., 0., 0., 0., 0., 0., 0., 0., 0.,\n",
       "         0., 0., 0., 0., 0., 0., 0., 0., 0., 0., 0.],\n",
       "        [0., 0., 0., 0., 0., 0., 0., 0., 0., 0., 0., 0., 0., 0., 0., 0.,\n",
       "         0., 1., 0., 0., 0., 0., 0., 0., 0., 0., 0.],\n",
       "        [0., 0., 0., 0., 0., 0., 0., 0., 0., 1., 0., 0., 0., 0., 0., 0.,\n",
       "         0., 0., 0., 0., 0., 0., 0., 0., 0., 0., 0.],\n",
       "        [0., 0., 0., 0., 0., 0., 0., 0., 0., 0., 0., 0., 0., 0., 0., 0.,\n",
       "         0., 0., 1., 0., 0., 0., 0., 0., 0., 0., 0.],\n",
       "        [0., 0., 0., 0., 0., 0., 0., 0., 0., 1., 0., 0., 0., 0., 0., 0.,\n",
       "         0., 0., 0., 0., 0., 0., 0., 0., 0., 0., 0.],\n",
       "        [0., 0., 0., 0., 0., 0., 0., 0., 0., 0., 0., 0., 0., 0., 0., 0.,\n",
       "         0., 0., 0., 0., 0., 0., 0., 0., 0., 0., 1.],\n",
       "        [0., 0., 1., 0., 0., 0., 0., 0., 0., 0., 0., 0., 0., 0., 0., 0.,\n",
       "         0., 0., 0., 0., 0., 0., 0., 0., 0., 0., 0.],\n",
       "        [0., 0., 0., 0., 0., 0., 0., 0., 0., 0., 0., 0., 0., 0., 0., 0.,\n",
       "         0., 0., 0., 0., 0., 0., 0., 0., 0., 0., 1.]], dtype=float32))"
      ]
     },
     "execution_count": 69,
     "metadata": {},
     "output_type": "execute_result"
    }
   ],
   "source": [
    "test_set[0]"
   ]
  },
  {
   "cell_type": "code",
   "execution_count": 70,
   "id": "76715c37-f325-41e1-aa2d-2e962dbdcaef",
   "metadata": {},
   "outputs": [],
   "source": [
    "import matplotlib.pyplot as plt # for showing images\n",
    "import numpy as np"
   ]
  },
  {
   "cell_type": "code",
   "execution_count": 71,
   "id": "7449129c-f0f6-4180-b287-3e1ac6da692d",
   "metadata": {},
   "outputs": [
    {
     "data": {
      "text/plain": [
       "array([[2.87021373e-22, 9.88655131e-08, 6.01632513e-13, ...,\n",
       "        1.45482888e-17, 1.61100917e-21, 2.90460605e-18],\n",
       "       [1.46644772e-04, 4.70096184e-09, 3.99430570e-13, ...,\n",
       "        1.02810766e-07, 5.86124171e-09, 8.42133377e-11],\n",
       "       [1.05477261e-16, 1.63120586e-10, 6.11653228e-11, ...,\n",
       "        3.46650327e-20, 1.74185108e-20, 2.08537987e-15],\n",
       "       ...,\n",
       "       [4.61386083e-13, 1.27755930e-14, 7.33509919e-09, ...,\n",
       "        1.82705837e-10, 9.99997735e-01, 1.48094384e-10],\n",
       "       [5.91800674e-23, 1.04226632e-22, 2.97015432e-18, ...,\n",
       "        4.27967170e-23, 9.79803570e-28, 1.00000000e+00],\n",
       "       [9.16548792e-09, 1.90186200e-11, 1.20065557e-09, ...,\n",
       "        3.24666093e-11, 7.34663814e-08, 1.50621833e-12]], dtype=float32)"
      ]
     },
     "execution_count": 71,
     "metadata": {},
     "output_type": "execute_result"
    }
   ],
   "source": [
    "predicted"
   ]
  },
  {
   "cell_type": "code",
   "execution_count": 72,
   "id": "22069de4-fd07-4aa6-afa7-d4aa51c3876a",
   "metadata": {},
   "outputs": [
    {
     "name": "stdout",
     "output_type": "stream",
     "text": [
      "['A', 'B', 'C', 'D', 'E', 'F', 'G', 'H', 'I', 'J', 'K', 'L', 'M', 'N', 'O', 'P', 'Q', 'R', 'S', 'T', 'U', 'V', 'W', 'X', 'Y', 'Z', 'blank']\n",
      "['F', 'M', 'E', 'K', 'B', 'N', 'I', 'D', 'O', 'E', 'B', 'B', 'Q', 'D', 'I', 'B', 'Y', 'Q', 'A', 'K', 'M', 'L', 'Q', 'X', 'O', 'O', 'Y', 'N', 'F', 'A', 'A', 'X', 'A', 'R', 'J', 'B', 'L', 'I', 'M', 'N', 'I', 'P', 'P', 'U', 'U', 'K', 'D', 'V', 'N', 'D', 'C', 'Q', 'J', 'L', 'blank', 'C', 'R', 'R', 'U', 'M', 'Q', 'A', 'P', 'W', 'T', 'P', 'blank', 'G', 'A', 'F', 'X', 'L', 'X', 'G', 'G', 'U', 'T', 'F', 'W', 'I', 'V', 'Y', 'K', 'blank', 'Z', 'T', 'A', 'M', 'R', 'D', 'F', 'S', 'H', 'J', 'G', 'T', 'Q', 'K', 'J', 'W', 'blank', 'G', 'T', 'Y', 'S', 'S', 'R', 'P', 'S', 'D', 'S', 'R', 'V', 'E', 'L', 'W', 'E', 'X', 'Z', 'A', 'C', 'E', 'Q', 'W', 'U', 'O', 'O', 'B', 'G', 'Y', 'C', 'F', 'K', 'N', 'T', 'blank', 'J', 'U', 'M', 'W', 'Y', 'X', 'O', 'N', 'Q', 'L', 'V', 'J', 'C', 'V', 'A', 'E', 'P', 'V', 'I', 'Z', 'Z', 'Z', 'C', 'Z', 'blank', 'S']\n"
     ]
    }
   ],
   "source": [
    "predicted_classes = np.argmax(predicted, axis=1)\n",
    "class_names = list(training_set.class_indices.keys())\n",
    "print(class_names)\n",
    "\n",
    "# Map the indices to class names\n",
    "predicted_class_names = [class_names[idx] for idx in predicted_classes]\n",
    "\n",
    "print(predicted_class_names)\n"
   ]
  },
  {
   "cell_type": "code",
   "execution_count": 73,
   "id": "403bd7f0-d41f-4ecc-ad60-d1e9988c8ea0",
   "metadata": {},
   "outputs": [
    {
     "name": "stdout",
     "output_type": "stream",
     "text": [
      "162\n",
      "6\n"
     ]
    }
   ],
   "source": [
    "print(len(predicted))\n",
    "print(len(test_set))"
   ]
  },
  {
   "cell_type": "code",
   "execution_count": 74,
   "id": "63f76f08-91c1-438d-9e84-5c34ee9abbca",
   "metadata": {},
   "outputs": [
    {
     "name": "stdout",
     "output_type": "stream",
     "text": [
      "[5, 12, 4, 10, 1, 13, 8, 3, 14, 4, 1, 1, 16, 3, 8, 1, 24, 16, 0, 10, 12, 11, 16, 23, 14, 14, 24, 13, 5, 0, 0, 23, 0, 17, 9, 1, 11, 8, 12, 13, 8, 15, 15, 20, 20, 10, 3, 21, 13, 3, 2, 16, 9, 11, 26, 2, 17, 17, 20, 12, 16, 0, 15, 22, 19, 15, 26, 6, 0, 5, 23, 11, 23, 6, 6, 20, 19, 5, 22, 8, 21, 24, 10, 26, 25, 19, 0, 12, 17, 3, 5, 18, 7, 9, 6, 19, 16, 10, 9, 22, 26, 6, 19, 24, 18, 18, 17, 15, 18, 3, 18, 17, 21, 4, 11, 22, 4, 23, 25, 0, 2, 4, 16, 22, 20, 14, 14, 1, 6, 24, 2, 5, 10, 13, 19, 26, 9, 20, 12, 22, 24, 23, 14, 13, 16, 11, 21, 9, 2, 21, 0, 4, 15, 21, 8, 25, 25, 25, 2, 25, 26, 18]\n"
     ]
    },
    {
     "data": {
      "text/plain": [
       "162"
      ]
     },
     "execution_count": 74,
     "metadata": {},
     "output_type": "execute_result"
    }
   ],
   "source": [
    "val = [] \n",
    "for i in range(len(predicted)): \n",
    "    val1 = np.argmax(predicted[i])  # Use index i to access each element of predicted\n",
    "    val.append(val1)\n",
    "\n",
    "print(val)\n",
    "len(predicted)\n"
   ]
  },
  {
   "cell_type": "code",
   "execution_count": 75,
   "id": "444220ce-0be9-44fb-86b8-c2b8d90f2a5a",
   "metadata": {},
   "outputs": [
    {
     "data": {
      "text/plain": [
       "5"
      ]
     },
     "execution_count": 75,
     "metadata": {},
     "output_type": "execute_result"
    }
   ],
   "source": [
    "np.argmax(predicted[0])"
   ]
  },
  {
   "cell_type": "code",
   "execution_count": 76,
   "id": "e0acc85a-cf76-486d-b5af-95ee832221c3",
   "metadata": {},
   "outputs": [
    {
     "name": "stdout",
     "output_type": "stream",
     "text": [
      "[ 0  0  0  0  0  0  1  1  1  1  1  1  2  2  2  2  2  2  3  3  3  3  3  3\n",
      "  4  4  4  4  4  4  5  5  5  5  5  5  6  6  6  6  6  6  7  7  7  7  7  7\n",
      "  8  8  8  8  8  8  9  9  9  9  9  9 10 10 10 10 10 10 11 11 11 11 11 11\n",
      " 12 12 12 12 12 12 13 13 13 13 13 13 14 14 14 14 14 14 15 15 15 15 15 15\n",
      " 16 16 16 16 16 16 17 17 17 17 17 17 18 18 18 18 18 18 19 19 19 19 19 19\n",
      " 20 20 20 20 20 20 21 21 21 21 21 21 22 22 22 22 22 22 23 23 23 23 23 23\n",
      " 24 24 24 24 24 24 25 25 25 25 25 25 26 26 26 26 26 26]\n",
      "['A', 'B', 'C', 'D', 'E', 'F', 'G', 'H', 'I', 'J', 'K', 'L', 'M', 'N', 'O', 'P', 'Q', 'R', 'S', 'T', 'U', 'V', 'W', 'X', 'Y', 'Z', 'blank']\n",
      "2\n",
      "1/1 [==============================] - 0s 47ms/step\n"
     ]
    },
    {
     "data": {
      "image/png": "[encoded data removed]",
      "text/plain": [
       "<Figure size 2000x2000 with 6 Axes>"
      ]
     },
     "metadata": {},
     "output_type": "display_data"
    }
   ],
   "source": [
    "true_value = test_set.classes\n",
    "print(true_value)\n",
    "class_true_labels = list(test_set.class_indices.keys())\n",
    "print(class_labels)\n",
    "\n",
    "j=1\n",
    "# plt.imshow(test_set[0][0][5], cmap = 'Greys')\n",
    "print(len(test_set[0]))\n",
    "val = savedModel.predict(test_set[0][0])\n",
    "val\n",
    "\n",
    "\n",
    "plt.figure(figsize=(20, 20))\n",
    "for i in range(len(test_set)):\n",
    "    if i >= 27: \n",
    "        continue\n",
    "    plt.subplot(4, 4, i+1)\n",
    "    plt.imshow(test_set[0][0][i], cmap='gray')  # Display the first image from each batch\n",
    "    plt.title('True: {}\\nPredicted: {}'.format(class_labels[true_value[i]], class_labels[np.argmax(predicted[i])]))\n",
    "    plt.axis('off')\n",
    "plt.tight_layout()\n",
    "plt.show()\n"
   ]
  },
  {
   "cell_type": "code",
   "execution_count": null,
   "id": "b647a114-cb80-467c-b384-f77f7e6d9efc",
   "metadata": {},
   "outputs": [],
   "source": []
  },
  {
   "cell_type": "code",
   "execution_count": null,
   "id": "97b5aae6-9d4b-4fe9-acf4-bd34936b5017",
   "metadata": {},
   "outputs": [],
   "source": []
  }
 ],
 "metadata": {
  "kernelspec": {
   "display_name": "Python 3 (ipykernel)",
   "language": "python",
   "name": "python3"
  },
  "language_info": {
   "codemirror_mode": {
    "name": "ipython",
    "version": 3
   },
   "file_extension": ".py",
   "mimetype": "text/x-python",
   "name": "python",
   "nbconvert_exporter": "python",
   "pygments_lexer": "ipython3",
   "version": "3.11.0"
  }
 },
 "nbformat": 4,
 "nbformat_minor": 5
}
