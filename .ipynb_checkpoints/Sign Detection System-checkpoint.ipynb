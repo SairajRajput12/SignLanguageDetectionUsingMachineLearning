{
 "cells": [
  {
   "cell_type": "markdown",
   "id": "991b3c08-57be-4814-841e-59672dcc9f43",
   "metadata": {},
   "source": [
    "# Data Collection"
   ]
  },
  {
   "cell_type": "code",
   "execution_count": 9,
   "id": "e0e0c842-ffe2-4beb-9f7f-4e511057babe",
   "metadata": {},
   "outputs": [],
   "source": [
    "import cv2 \n",
    "import os"
   ]
  },
  {
   "cell_type": "code",
   "execution_count": 10,
   "id": "bb5ca4c0-656e-4265-91a6-445a4c67d77a",
   "metadata": {},
   "outputs": [],
   "source": [
    "directory = 'RawData/' "
   ]
  },
  {
   "cell_type": "code",
   "execution_count": 11,
   "id": "2e8d0027-b26c-4c92-8579-2765354fffd9",
   "metadata": {},
   "outputs": [
    {
     "name": "stdout",
     "output_type": "stream",
     "text": [
      "E:\\MachineLearning\\SignDetectionSystemUsingMachineLearning\n"
     ]
    }
   ],
   "source": [
    "print(os.getcwd())"
   ]
  },
  {
   "cell_type": "code",
   "execution_count": 12,
   "id": "eb09ca4f-a7b2-4aec-b87d-710af01ceee2",
   "metadata": {},
   "outputs": [],
   "source": [
    "if not os.path.exists(directory): \n",
    "    os.mkdir(directory)\n",
    "if not os.path.exists(f'{directory}/blank'):\n",
    "    os.mkdir(f'{directory}/blank')"
   ]
  },
  {
   "cell_type": "markdown",
   "id": "3b14e673-30ac-4433-a6b0-aaea8e3faa15",
   "metadata": {},
   "source": [
    "# it will create the directory for all kinds of the letter"
   ]
  },
  {
   "cell_type": "code",
   "execution_count": 13,
   "id": "40f943b6-f0fb-4b4f-b77a-674b5b56f246",
   "metadata": {},
   "outputs": [],
   "source": [
    "for i in range(65,91):\n",
    "    letter  = chr(i)\n",
    "    if not os.path.exists(f'{directory}/{letter}'):\n",
    "        os.mkdir(f'{directory}/{letter}')\n"
   ]
  },
  {
   "cell_type": "code",
   "execution_count": 16,
   "id": "c3f42396-712e-4a63-8cc8-0eae4d0fecc7",
   "metadata": {},
   "outputs": [],
   "source": [
    "# NOW WE WILL CAPTURE THE IMAGES\n",
    "cap = cv2.VideoCapture(0)"
   ]
  },
  {
   "cell_type": "code",
   "execution_count": 17,
   "id": "700f3396-7203-42d0-b24a-add94bb2ea27",
   "metadata": {},
   "outputs": [],
   "source": [
    "while True:\n",
    "    ret,frame = cap.read() \n",
    "    count = {\n",
    "             'a': len(os.listdir(directory+\"/A\")),\n",
    "             'b': len(os.listdir(directory+\"/B\")),\n",
    "             'c': len(os.listdir(directory+\"/C\")),\n",
    "             'd': len(os.listdir(directory+\"/D\")),\n",
    "             'e': len(os.listdir(directory+\"/E\")),\n",
    "             'f': len(os.listdir(directory+\"/F\")),\n",
    "             'g': len(os.listdir(directory+\"/G\")),\n",
    "             'h': len(os.listdir(directory+\"/H\")),\n",
    "             'i': len(os.listdir(directory+\"/I\")),\n",
    "             'j': len(os.listdir(directory+\"/J\")),\n",
    "             'k': len(os.listdir(directory+\"/K\")),\n",
    "             'l': len(os.listdir(directory+\"/L\")),\n",
    "             'm': len(os.listdir(directory+\"/M\")),\n",
    "             'n': len(os.listdir(directory+\"/N\")),\n",
    "             'o': len(os.listdir(directory+\"/O\")),\n",
    "             'p': len(os.listdir(directory+\"/P\")),\n",
    "             'q': len(os.listdir(directory+\"/Q\")),\n",
    "             'r': len(os.listdir(directory+\"/R\")),\n",
    "             's': len(os.listdir(directory+\"/S\")),\n",
    "             't': len(os.listdir(directory+\"/T\")),\n",
    "             'u': len(os.listdir(directory+\"/U\")),\n",
    "             'v': len(os.listdir(directory+\"/V\")),\n",
    "             'w': len(os.listdir(directory+\"/W\")),\n",
    "             'x': len(os.listdir(directory+\"/X\")),\n",
    "             'y': len(os.listdir(directory+\"/Y\")),\n",
    "             'z': len(os.listdir(directory+\"/Z\")),\n",
    "             'blank': len(os.listdir(directory+\"/blank\"))\n",
    "             }\n",
    "    row = frame.shape[1]\n",
    "    col = frame.shape[0]\n",
    "    cv2.rectangle(frame,(0,40),(300,300),(255,255,255),2)\n",
    "    cv2.imshow(\"data\",frame)\n",
    "    frame=frame[40:300,0:300]\n",
    "    cv2.imshow(\"ROI\",frame)\n",
    "    frame = cv2.cvtColor(frame,cv2.COLOR_BGR2GRAY)\n",
    "    frame = cv2.resize(frame,(48,48))\n",
    "    interrupt = cv2.waitKey(10)\n",
    "    if interrupt & 0xFF == ord('a'):\n",
    "        cv2.imwrite(os.path.join(directory+'A/'+str(count['a']))+'.jpg',frame)\n",
    "    if interrupt & 0xFF == ord('b'):\n",
    "        cv2.imwrite(os.path.join(directory+'B/'+str(count['b']))+'.jpg',frame)\n",
    "    if interrupt & 0xFF == ord('c'):\n",
    "        cv2.imwrite(os.path.join(directory+'C/'+str(count['c']))+'.jpg',frame)\n",
    "    if interrupt & 0xFF == ord('d'):\n",
    "        cv2.imwrite(os.path.join(directory+'D/'+str(count['d']))+'.jpg',frame)\n",
    "    if interrupt & 0xFF == ord('e'):\n",
    "        cv2.imwrite(os.path.join(directory+'E/'+str(count['e']))+'.jpg',frame)\n",
    "    if interrupt & 0xFF == ord('f'):\n",
    "        cv2.imwrite(os.path.join(directory+'F/'+str(count['f']))+'.jpg',frame)\n",
    "    if interrupt & 0xFF == ord('g'):\n",
    "        cv2.imwrite(os.path.join(directory+'G/'+str(count['g']))+'.jpg',frame)\n",
    "    if interrupt & 0xFF == ord('h'):\n",
    "        cv2.imwrite(os.path.join(directory+'H/'+str(count['h']))+'.jpg',frame)\n",
    "    if interrupt & 0xFF == ord('i'):\n",
    "        cv2.imwrite(os.path.join(directory+'I/'+str(count['i']))+'.jpg',frame)\n",
    "    if interrupt & 0xFF == ord('j'):\n",
    "        cv2.imwrite(os.path.join(directory+'J/'+str(count['j']))+'.jpg',frame)\n",
    "    if interrupt & 0xFF == ord('k'):\n",
    "        cv2.imwrite(os.path.join(directory+'K/'+str(count['k']))+'.jpg',frame)\n",
    "    if interrupt & 0xFF == ord('l'):\n",
    "        cv2.imwrite(os.path.join(directory+'L/'+str(count['l']))+'.jpg',frame)\n",
    "    if interrupt & 0xFF == ord('m'):\n",
    "        cv2.imwrite(os.path.join(directory+'M/'+str(count['m']))+'.jpg',frame)\n",
    "    if interrupt & 0xFF == ord('n'):\n",
    "        cv2.imwrite(os.path.join(directory+'N/'+str(count['n']))+'.jpg',frame)\n",
    "    if interrupt & 0xFF == ord('o'):\n",
    "        cv2.imwrite(os.path.join(directory+'O/'+str(count['o']))+'.jpg',frame)\n",
    "    if interrupt & 0xFF == ord('p'):\n",
    "        cv2.imwrite(os.path.join(directory+'P/'+str(count['p']))+'.jpg',frame)\n",
    "    if interrupt & 0xFF == ord('q'):\n",
    "        cv2.imwrite(os.path.join(directory+'Q/'+str(count['q']))+'.jpg',frame)\n",
    "    if interrupt & 0xFF == ord('r'):\n",
    "        cv2.imwrite(os.path.join(directory+'R/'+str(count['r']))+'.jpg',frame)\n",
    "    if interrupt & 0xFF == ord('s'):\n",
    "        cv2.imwrite(os.path.join(directory+'S/'+str(count['s']))+'.jpg',frame)\n",
    "    if interrupt & 0xFF == ord('t'):\n",
    "        cv2.imwrite(os.path.join(directory+'T/'+str(count['t']))+'.jpg',frame)\n",
    "    if interrupt & 0xFF == ord('u'):\n",
    "        cv2.imwrite(os.path.join(directory+'U/'+str(count['u']))+'.jpg',frame)\n",
    "    if interrupt & 0xFF == ord('v'):\n",
    "        cv2.imwrite(os.path.join(directory+'V/'+str(count['v']))+'.jpg',frame)\n",
    "    if interrupt & 0xFF == ord('w'):\n",
    "        cv2.imwrite(os.path.join(directory+'W/'+str(count['w']))+'.jpg',frame)\n",
    "    if interrupt & 0xFF == ord('x'):\n",
    "        cv2.imwrite(os.path.join(directory+'X/'+str(count['x']))+'.jpg',frame)\n",
    "    if interrupt & 0xFF == ord('y'):\n",
    "        cv2.imwrite(os.path.join(directory+'Y/'+str(count['y']))+'.jpg',frame)\n",
    "    if interrupt & 0xFF == ord('z'):\n",
    "        cv2.imwrite(os.path.join(directory+'Z/'+str(count['z']))+'.jpg',frame)\n",
    "    if interrupt & 0xFF == ord('.'):\n",
    "        cv2.imwrite(os.path.join(directory+'blank/' + str(count['blank']))+ '.jpg',frame)\n",
    "    if interrupt & 0xFF == ord('0'):\n",
    "        break\n",
    "\n",
    "\n",
    "cap.release()\n",
    "cv2.destroyAllWindows()"
   ]
  },
  {
   "cell_type": "markdown",
   "id": "2a85d9e0-efa0-429e-94e1-a4a273bab7e7",
   "metadata": {},
   "source": [
    "refered: https://www.bing.com/images/search?view=detailV2&ccid=4dtJJTju&id=F065044D2AD13900A7E4B6AFB12ADAB6FEA39B51&thid=OIP.4dtJJTjuXgTbJMPYm23uLgHaE8&mediaurl=https%3a%2f%2fd.newsweek.com%2fen%2ffull%2f1394686%2fasl-getty-images.jpg&exph=1669&expw=2500&q=asl+sign&simid=608005041521707829&FORM=IRPRST&ck=DA15157C76C50EC2B21398965F9A2647&selectedIndex=3&itb=0&ajaxhist=0&ajaxserp=0"
   ]
  },
  {
   "cell_type": "markdown",
   "id": "f99158fa-4e20-46f7-a406-86660cf0bc5e",
   "metadata": {},
   "source": [
    "# Now we will preprocess our raw dataset"
   ]
  },
  {
   "cell_type": "code",
   "execution_count": 1,
   "id": "a9df3eea-98bd-4237-8a59-03eb746dca8f",
   "metadata": {},
   "outputs": [],
   "source": [
    "import numpy as np \n",
    "import cv2 \n",
    "minValue = 10 \n",
    "\n",
    "def func(path): \n",
    "    frame = cv2.imread(path) \n",
    "    gray = cv2.cvtColor(frame, cv2.COLOR_BGR2GRAY)\n",
    "    blur = cv2.GaussianBlur(gray,(5,5),2)\n",
    "    th3 = cv2.adaptiveThreshold(blur,255,cv2.ADAPTIVE_THRESH_GAUSSIAN_C,cv2.THRESH_BINARY_INV,11,2)\n",
    "    ret, res = cv2.threshold(th3, minValue, 255, cv2.THRESH_BINARY_INV+cv2.THRESH_OTSU)\n",
    "    return res\n",
    "    \n"
   ]
  },
  {
   "cell_type": "code",
   "execution_count": 7,
   "id": "bb2256c7-04e5-477d-9ed6-3cd8e3c17a27",
   "metadata": {},
   "outputs": [
    {
     "name": "stdout",
     "output_type": "stream",
     "text": [
      "Now we have imported library succesfully\n"
     ]
    }
   ],
   "source": [
    "import os\n",
    "import csv\n",
    "print(\"Now we have imported library succesfully\")"
   ]
  },
  {
   "cell_type": "markdown",
   "id": "b0822ff2-8ee5-4d10-bda9-ecf3e8050484",
   "metadata": {},
   "source": [
    "# Image pre-processing"
   ]
  },
  {
   "cell_type": "code",
   "execution_count": 8,
   "id": "533c7364-7028-4199-80dc-54b6816458ab",
   "metadata": {},
   "outputs": [],
   "source": [
    "if not os.path.exists(\"data\"): \n",
    "    os.makedirs(\"data\") \n",
    "\n",
    "if not os.path.exists(\"data/train\"): \n",
    "    os.makedirs(\"data/train\") \n",
    "\n",
    "if not os.path.exists(\"data/test\"): \n",
    "    os.makedirs(\"data/test\") \n",
    "\n",
    "\n",
    "path=\"RawData\"\n",
    "path1 = \"data\"\n",
    "a=['label']\n",
    "\n",
    "for i in range(64*64):\n",
    "    a.append(\"pixel\"+str(i))\n",
    "\n",
    "\n"
   ]
  },
  {
   "cell_type": "code",
   "execution_count": 9,
   "id": "a3828e9f-1e0e-47dd-9277-b0030e2db9f7",
   "metadata": {},
   "outputs": [
    {
     "name": "stdout",
     "output_type": "stream",
     "text": [
      "0\n",
      "0\n",
      "0\n"
     ]
    }
   ],
   "source": [
    "label=0\n",
    "var = 0\n",
    "c1 = 0\n",
    "c2 = 0\n",
    "\n",
    "for (dirpath,dirnames,filenames) in os.walk(path):\n",
    "    for dirname in dirnames: \n",
    "        print(dirname)\n",
    "        for(direcpath,direcnames,files) in os.walk(path+\"/\"+dirname):\n",
    "       \t    if not os.path.exists(path1+\"/train/\"+dirname):\n",
    "                os.makedirs(path1+\"/train/\"+dirname)\n",
    "            if not os.path.exists(path1+\"/test/\"+dirname):\n",
    "                os.makedirs(path1+\"/test/\"+dirname)\n",
    "            # num=0.75*len(files)\n",
    "            num = 100000000000000000\n",
    "            i=0\n",
    "            for file in files:\n",
    "                var+=1\n",
    "                actual_path=path+\"/\"+dirname+\"/\"+file\n",
    "                actual_path1=path1+\"/\"+\"train/\"+dirname+\"/\"+file\n",
    "                actual_path2=path1+\"/\"+\"test/\"+dirname+\"/\"+file\n",
    "                img = cv2.imread(actual_path, 0)\n",
    "                bw_image = func(actual_path)\n",
    "                if i<num:\n",
    "                    c1 += 1\n",
    "                    cv2.imwrite(actual_path1 , bw_image)\n",
    "                else:\n",
    "                    c2 += 1\n",
    "                    cv2.imwrite(actual_path2 , bw_image)\n",
    "                    \n",
    "                i=i+1\n",
    "                \n",
    "        label=label+1\n",
    "print(var)\n",
    "print(c1)\n",
    "print(c2)"
   ]
  },
  {
   "cell_type": "code",
   "execution_count": null,
   "id": "af173daf-284b-44bb-8eaa-f419de67d896",
   "metadata": {},
   "outputs": [],
   "source": []
  }
 ],
 "metadata": {
  "kernelspec": {
   "display_name": "Python 3 (ipykernel)",
   "language": "python",
   "name": "python3"
  },
  "language_info": {
   "codemirror_mode": {
    "name": "ipython",
    "version": 3
   },
   "file_extension": ".py",
   "mimetype": "text/x-python",
   "name": "python",
   "nbconvert_exporter": "python",
   "pygments_lexer": "ipython3",
   "version": "3.11.0"
  }
 },
 "nbformat": 4,
 "nbformat_minor": 5
}
