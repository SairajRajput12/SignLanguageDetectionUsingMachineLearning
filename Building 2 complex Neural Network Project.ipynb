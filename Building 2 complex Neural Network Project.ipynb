{
 "cells": [
  {
   "cell_type": "markdown",
   "id": "9e5ec236-cc7e-450c-9cf2-e59173bf2169",
   "metadata": {},
   "source": [
    "## Convolutional neural network: complex neural network"
   ]
  },
  {
   "cell_type": "code",
   "execution_count": 2,
   "id": "01a70213-5bdf-4342-8a76-4db7c2cf7133",
   "metadata": {},
   "outputs": [],
   "source": [
    "import numpy as np\n",
    "import matplotlib.pyplot as plt\n",
    "import seaborn as sns\n",
    "import keras\n",
    "\n",
    "\n",
    "#Building CNN model\n",
    "cnn_model2 = keras.models.Sequential([\n",
    "                         keras.layers.Conv2D(filters=32, kernel_size=3, strides=(1,1), padding='valid',activation= 'relu', input_shape=[28,28,1]),\n",
    "                         keras.layers.MaxPooling2D(pool_size=(2,2)),\n",
    "                         keras.layers.Conv2D(filters=64, kernel_size=3, strides=(2,2), padding='same', activation='relu'),\n",
    "                         keras.layers.MaxPooling2D(pool_size=(2,2)),\n",
    "                         keras.layers.Flatten(),\n",
    "                         keras.layers.Dense(units=128, activation='relu'),\n",
    "                         keras.layers.Dropout(0.25),\n",
    "                         keras.layers.Dense(units=256, activation='relu'),\n",
    "                         keras.layers.Dropout(0.25),\n",
    "                         keras.layers.Dense(units=128, activation='relu'),\n",
    "                         keras.layers.Dense(units=10, activation='softmax')\n",
    "                         ])"
   ]
  },
  {
   "cell_type": "code",
   "execution_count": 3,
   "id": "871d9379-97a2-4e5d-9b64-fffac9e5abbe",
   "metadata": {},
   "outputs": [
    {
     "name": "stdout",
     "output_type": "stream",
     "text": [
      "WARNING:tensorflow:From C:\\Users\\saira\\AppData\\Local\\Programs\\Python\\Python311\\Lib\\site-packages\\keras\\src\\optimizers\\__init__.py:309: The name tf.train.Optimizer is deprecated. Please use tf.compat.v1.train.Optimizer instead.\n",
      "\n"
     ]
    }
   ],
   "source": [
    "cnn_model2.compile(optimizer='adam', loss= 'sparse_categorical_crossentropy', metrics=['accuracy'])\n"
   ]
  },
  {
   "cell_type": "code",
   "execution_count": 4,
   "id": "fd5c3939-da67-44fd-be2f-da7400607077",
   "metadata": {},
   "outputs": [],
   "source": [
    "(X_train, y_train), (X_test, y_test) = keras.datasets.fashion_mnist.load_data() # load dataset from  keras"
   ]
  },
  {
   "cell_type": "code",
   "execution_count": 6,
   "id": "2aa46659-ac88-4050-9432-d5f3cd18ad49",
   "metadata": {},
   "outputs": [],
   "source": [
    "from sklearn.model_selection import train_test_split \n",
    "\n",
    "X_train, X_validation, y_train, y_validation = train_test_split(X_train, y_train, test_size= 0.2, random_state=2020)"
   ]
  },
  {
   "cell_type": "code",
   "execution_count": 11,
   "id": "1ab069db-e936-4bd4-929f-1e5bdd2fcca6",
   "metadata": {},
   "outputs": [
    {
     "name": "stdout",
     "output_type": "stream",
     "text": [
      "Epoch 1/30\n",
      "94/94 [==============================] - 10s 108ms/step - loss: 0.2287 - accuracy: 0.9157 - val_loss: 0.3050 - val_accuracy: 0.8939\n",
      "Epoch 2/30\n",
      "94/94 [==============================] - 10s 109ms/step - loss: 0.2213 - accuracy: 0.9176 - val_loss: 0.3100 - val_accuracy: 0.8952\n",
      "Epoch 3/30\n",
      "94/94 [==============================] - 10s 108ms/step - loss: 0.2167 - accuracy: 0.9191 - val_loss: 0.3064 - val_accuracy: 0.8960\n",
      "Epoch 4/30\n",
      "94/94 [==============================] - 10s 108ms/step - loss: 0.2157 - accuracy: 0.9205 - val_loss: 0.3017 - val_accuracy: 0.8947\n",
      "Epoch 5/30\n",
      "94/94 [==============================] - 10s 107ms/step - loss: 0.2123 - accuracy: 0.9208 - val_loss: 0.3092 - val_accuracy: 0.8938\n",
      "Epoch 6/30\n",
      "94/94 [==============================] - 10s 109ms/step - loss: 0.2076 - accuracy: 0.9216 - val_loss: 0.3118 - val_accuracy: 0.8938\n",
      "Epoch 7/30\n",
      "94/94 [==============================] - 10s 109ms/step - loss: 0.1990 - accuracy: 0.9255 - val_loss: 0.3112 - val_accuracy: 0.8970\n",
      "Epoch 8/30\n",
      "94/94 [==============================] - 10s 108ms/step - loss: 0.1961 - accuracy: 0.9267 - val_loss: 0.3181 - val_accuracy: 0.8927\n",
      "Epoch 9/30\n",
      "94/94 [==============================] - 10s 108ms/step - loss: 0.1956 - accuracy: 0.9276 - val_loss: 0.3170 - val_accuracy: 0.8988\n",
      "Epoch 10/30\n",
      "94/94 [==============================] - 10s 109ms/step - loss: 0.1904 - accuracy: 0.9271 - val_loss: 0.3156 - val_accuracy: 0.8988\n",
      "Epoch 11/30\n",
      "94/94 [==============================] - 10s 108ms/step - loss: 0.1879 - accuracy: 0.9298 - val_loss: 0.3076 - val_accuracy: 0.8987\n",
      "Epoch 12/30\n",
      "94/94 [==============================] - 10s 110ms/step - loss: 0.1805 - accuracy: 0.9326 - val_loss: 0.3144 - val_accuracy: 0.8970\n",
      "Epoch 13/30\n",
      "94/94 [==============================] - 12s 125ms/step - loss: 0.1791 - accuracy: 0.9323 - val_loss: 0.3174 - val_accuracy: 0.8976\n",
      "Epoch 14/30\n",
      "94/94 [==============================] - 11s 115ms/step - loss: 0.1756 - accuracy: 0.9337 - val_loss: 0.3323 - val_accuracy: 0.8941\n",
      "Epoch 15/30\n",
      "94/94 [==============================] - 12s 124ms/step - loss: 0.1753 - accuracy: 0.9339 - val_loss: 0.3220 - val_accuracy: 0.8997\n",
      "Epoch 16/30\n",
      "94/94 [==============================] - 11s 122ms/step - loss: 0.1687 - accuracy: 0.9373 - val_loss: 0.3263 - val_accuracy: 0.8950\n",
      "Epoch 17/30\n",
      "94/94 [==============================] - 11s 115ms/step - loss: 0.1644 - accuracy: 0.9389 - val_loss: 0.3316 - val_accuracy: 0.8992\n",
      "Epoch 18/30\n",
      "94/94 [==============================] - 11s 114ms/step - loss: 0.1621 - accuracy: 0.9384 - val_loss: 0.3270 - val_accuracy: 0.8964\n",
      "Epoch 19/30\n",
      "94/94 [==============================] - 12s 124ms/step - loss: 0.1642 - accuracy: 0.9373 - val_loss: 0.3498 - val_accuracy: 0.8941\n",
      "Epoch 20/30\n",
      "94/94 [==============================] - 11s 122ms/step - loss: 0.1596 - accuracy: 0.9402 - val_loss: 0.3343 - val_accuracy: 0.9005\n",
      "Epoch 21/30\n",
      "94/94 [==============================] - 10s 111ms/step - loss: 0.1520 - accuracy: 0.9433 - val_loss: 0.3391 - val_accuracy: 0.8974\n",
      "Epoch 22/30\n",
      "94/94 [==============================] - 10s 110ms/step - loss: 0.1502 - accuracy: 0.9443 - val_loss: 0.3332 - val_accuracy: 0.8992\n",
      "Epoch 23/30\n",
      "94/94 [==============================] - 10s 109ms/step - loss: 0.1523 - accuracy: 0.9423 - val_loss: 0.3780 - val_accuracy: 0.8891\n",
      "Epoch 24/30\n",
      "94/94 [==============================] - 11s 113ms/step - loss: 0.1481 - accuracy: 0.9454 - val_loss: 0.3495 - val_accuracy: 0.8978\n",
      "Epoch 25/30\n",
      "94/94 [==============================] - 11s 112ms/step - loss: 0.1462 - accuracy: 0.9448 - val_loss: 0.3455 - val_accuracy: 0.9013\n",
      "Epoch 26/30\n",
      "94/94 [==============================] - 10s 111ms/step - loss: 0.1446 - accuracy: 0.9461 - val_loss: 0.3539 - val_accuracy: 0.8937\n",
      "Epoch 27/30\n",
      "94/94 [==============================] - 10s 111ms/step - loss: 0.1445 - accuracy: 0.9461 - val_loss: 0.3381 - val_accuracy: 0.8986\n",
      "Epoch 28/30\n",
      "94/94 [==============================] - 10s 110ms/step - loss: 0.1357 - accuracy: 0.9495 - val_loss: 0.3510 - val_accuracy: 0.8992\n",
      "Epoch 29/30\n",
      "94/94 [==============================] - 10s 110ms/step - loss: 0.1369 - accuracy: 0.9492 - val_loss: 0.3746 - val_accuracy: 0.8969\n",
      "Epoch 30/30\n",
      "94/94 [==============================] - 10s 110ms/step - loss: 0.1376 - accuracy: 0.9481 - val_loss: 0.3608 - val_accuracy: 0.8983\n"
     ]
    },
    {
     "data": {
      "text/plain": [
       "<keras.src.callbacks.History at 0x166072656d0>"
      ]
     },
     "execution_count": 11,
     "metadata": {},
     "output_type": "execute_result"
    }
   ],
   "source": [
    "# train the dataset\n",
    "\n",
    "cnn_model2.fit(X_train, y_train, epochs=30, batch_size=512, verbose=1, validation_data=(X_validation, y_validation))\n"
   ]
  },
  {
   "cell_type": "code",
   "execution_count": 18,
   "id": "9206d1c5-3479-45dd-bb83-1bcff5be5836",
   "metadata": {},
   "outputs": [
    {
     "name": "stdout",
     "output_type": "stream",
     "text": [
      "313/313 [==============================] - 2s 6ms/step - loss: 0.3638 - accuracy: 0.8942\n"
     ]
    },
    {
     "data": {
      "text/plain": [
       "[0.3638440668582916, 0.8942000269889832]"
      ]
     },
     "execution_count": 18,
     "metadata": {},
     "output_type": "execute_result"
    }
   ],
   "source": [
    "cnn_model2.evaluate(X_test,y_test)"
   ]
  },
  {
   "cell_type": "code",
   "execution_count": 19,
   "id": "37702e36-8187-4c0a-8641-d195fd4bd08f",
   "metadata": {},
   "outputs": [],
   "source": [
    "from tensorflow.keras.models import Model\n",
    "from tensorflow.keras.models import load_model\n",
    "\n",
    "path = 'E:/MachineLearning/SignDetectionSystemUsingMachineLearning/Model/complexmodel.h5' \n",
    "cnn_model2.save(path)"
   ]
  },
  {
   "cell_type": "code",
   "execution_count": 20,
   "id": "fc25ae85-aa2d-4560-92ec-29c1b94176f1",
   "metadata": {},
   "outputs": [
    {
     "name": "stdout",
     "output_type": "stream",
     "text": [
      "Model: \"sequential_1\"\n",
      "_________________________________________________________________\n",
      " Layer (type)                Output Shape              Param #   \n",
      "=================================================================\n",
      " conv2d_2 (Conv2D)           (None, 26, 26, 32)        320       \n",
      "                                                                 \n",
      " max_pooling2d_2 (MaxPoolin  (None, 13, 13, 32)        0         \n",
      " g2D)                                                            \n",
      "                                                                 \n",
      " conv2d_3 (Conv2D)           (None, 7, 7, 64)          18496     \n",
      "                                                                 \n",
      " max_pooling2d_3 (MaxPoolin  (None, 3, 3, 64)          0         \n",
      " g2D)                                                            \n",
      "                                                                 \n",
      " flatten_1 (Flatten)         (None, 576)               0         \n",
      "                                                                 \n",
      " dense_4 (Dense)             (None, 128)               73856     \n",
      "                                                                 \n",
      " dropout_2 (Dropout)         (None, 128)               0         \n",
      "                                                                 \n",
      " dense_5 (Dense)             (None, 256)               33024     \n",
      "                                                                 \n",
      " dropout_3 (Dropout)         (None, 256)               0         \n",
      "                                                                 \n",
      " dense_6 (Dense)             (None, 128)               32896     \n",
      "                                                                 \n",
      " dense_7 (Dense)             (None, 10)                1290      \n",
      "                                                                 \n",
      "=================================================================\n",
      "Total params: 159882 (624.54 KB)\n",
      "Trainable params: 159882 (624.54 KB)\n",
      "Non-trainable params: 0 (0.00 Byte)\n",
      "_________________________________________________________________\n"
     ]
    }
   ],
   "source": [
    "savedModel=load_model(path) # loading the model \n",
    "savedModel.summary()\n"
   ]
  },
  {
   "cell_type": "code",
   "execution_count": 21,
   "id": "6b11681c-a994-475b-8e66-056459bd8bf4",
   "metadata": {
    "scrolled": true
   },
   "outputs": [
    {
     "name": "stdout",
     "output_type": "stream",
     "text": [
      "Epoch 1/50\n",
      "94/94 [==============================] - 35s 333ms/step - loss: 1.3548 - accuracy: 0.5365 - val_loss: 0.5428 - val_accuracy: 0.7937\n",
      "Epoch 2/50\n",
      "94/94 [==============================] - 30s 324ms/step - loss: 0.5691 - accuracy: 0.7934 - val_loss: 0.4580 - val_accuracy: 0.8364\n",
      "Epoch 3/50\n",
      "94/94 [==============================] - 28s 300ms/step - loss: 0.4635 - accuracy: 0.8373 - val_loss: 0.3949 - val_accuracy: 0.8594\n",
      "Epoch 4/50\n",
      "94/94 [==============================] - 31s 327ms/step - loss: 0.4058 - accuracy: 0.8574 - val_loss: 0.3634 - val_accuracy: 0.8690\n",
      "Epoch 5/50\n",
      "94/94 [==============================] - 28s 300ms/step - loss: 0.3647 - accuracy: 0.8731 - val_loss: 0.3460 - val_accuracy: 0.8734\n",
      "Epoch 6/50\n",
      "94/94 [==============================] - 29s 304ms/step - loss: 0.3332 - accuracy: 0.8836 - val_loss: 0.3370 - val_accuracy: 0.8779\n",
      "Epoch 7/50\n",
      "94/94 [==============================] - 27s 288ms/step - loss: 0.3174 - accuracy: 0.8890 - val_loss: 0.3226 - val_accuracy: 0.8809\n",
      "Epoch 8/50\n",
      "94/94 [==============================] - 30s 323ms/step - loss: 0.2968 - accuracy: 0.8954 - val_loss: 0.3177 - val_accuracy: 0.8878\n",
      "Epoch 9/50\n",
      "94/94 [==============================] - 29s 311ms/step - loss: 0.2733 - accuracy: 0.9037 - val_loss: 0.3130 - val_accuracy: 0.8927\n",
      "Epoch 10/50\n",
      "94/94 [==============================] - 27s 282ms/step - loss: 0.2659 - accuracy: 0.9070 - val_loss: 0.3246 - val_accuracy: 0.8904\n",
      "Epoch 11/50\n",
      "94/94 [==============================] - 30s 318ms/step - loss: 0.2534 - accuracy: 0.9107 - val_loss: 0.3119 - val_accuracy: 0.8880\n",
      "Epoch 12/50\n",
      "94/94 [==============================] - 29s 308ms/step - loss: 0.2377 - accuracy: 0.9162 - val_loss: 0.3205 - val_accuracy: 0.8903\n",
      "Epoch 13/50\n",
      "94/94 [==============================] - 27s 284ms/step - loss: 0.2330 - accuracy: 0.9179 - val_loss: 0.3122 - val_accuracy: 0.8914\n",
      "Epoch 14/50\n",
      "94/94 [==============================] - 30s 324ms/step - loss: 0.2270 - accuracy: 0.9190 - val_loss: 0.3123 - val_accuracy: 0.8953\n",
      "Epoch 15/50\n",
      "94/94 [==============================] - 28s 294ms/step - loss: 0.2106 - accuracy: 0.9263 - val_loss: 0.3116 - val_accuracy: 0.8963\n",
      "Epoch 16/50\n",
      "94/94 [==============================] - 25s 265ms/step - loss: 0.2050 - accuracy: 0.9262 - val_loss: 0.3441 - val_accuracy: 0.8831\n",
      "Epoch 17/50\n",
      "94/94 [==============================] - 26s 277ms/step - loss: 0.2035 - accuracy: 0.9280 - val_loss: 0.3153 - val_accuracy: 0.8993\n",
      "Epoch 18/50\n",
      "94/94 [==============================] - 25s 267ms/step - loss: 0.1925 - accuracy: 0.9316 - val_loss: 0.3100 - val_accuracy: 0.9038\n",
      "Epoch 19/50\n",
      "94/94 [==============================] - 20s 212ms/step - loss: 0.1858 - accuracy: 0.9335 - val_loss: 0.3130 - val_accuracy: 0.8991\n",
      "Epoch 20/50\n",
      "94/94 [==============================] - 20s 211ms/step - loss: 0.1821 - accuracy: 0.9348 - val_loss: 0.3210 - val_accuracy: 0.9013\n",
      "Epoch 21/50\n",
      "94/94 [==============================] - 20s 209ms/step - loss: 0.1759 - accuracy: 0.9369 - val_loss: 0.3327 - val_accuracy: 0.8997\n",
      "Epoch 22/50\n",
      "94/94 [==============================] - 20s 211ms/step - loss: 0.1685 - accuracy: 0.9399 - val_loss: 0.3305 - val_accuracy: 0.8993\n",
      "Epoch 23/50\n",
      "94/94 [==============================] - 20s 209ms/step - loss: 0.1652 - accuracy: 0.9410 - val_loss: 0.3350 - val_accuracy: 0.9018\n",
      "Epoch 24/50\n",
      "94/94 [==============================] - 20s 209ms/step - loss: 0.1577 - accuracy: 0.9442 - val_loss: 0.3514 - val_accuracy: 0.8956\n",
      "Epoch 25/50\n",
      "94/94 [==============================] - 20s 211ms/step - loss: 0.1545 - accuracy: 0.9450 - val_loss: 0.3356 - val_accuracy: 0.9041\n",
      "Epoch 26/50\n",
      "94/94 [==============================] - 20s 211ms/step - loss: 0.1492 - accuracy: 0.9463 - val_loss: 0.3577 - val_accuracy: 0.8974\n",
      "Epoch 27/50\n",
      "94/94 [==============================] - 20s 209ms/step - loss: 0.1491 - accuracy: 0.9474 - val_loss: 0.3438 - val_accuracy: 0.8976\n",
      "Epoch 28/50\n",
      "94/94 [==============================] - 20s 215ms/step - loss: 0.1452 - accuracy: 0.9484 - val_loss: 0.3466 - val_accuracy: 0.9019\n",
      "Epoch 29/50\n",
      "94/94 [==============================] - 20s 210ms/step - loss: 0.1267 - accuracy: 0.9552 - val_loss: 0.3682 - val_accuracy: 0.9030\n",
      "Epoch 30/50\n",
      "94/94 [==============================] - 20s 210ms/step - loss: 0.1232 - accuracy: 0.9561 - val_loss: 0.4036 - val_accuracy: 0.8964\n",
      "Epoch 31/50\n",
      "94/94 [==============================] - 20s 211ms/step - loss: 0.1293 - accuracy: 0.9534 - val_loss: 0.3449 - val_accuracy: 0.9011\n",
      "Epoch 32/50\n",
      "94/94 [==============================] - 19s 207ms/step - loss: 0.1195 - accuracy: 0.9573 - val_loss: 0.3885 - val_accuracy: 0.8957\n",
      "Epoch 33/50\n",
      "94/94 [==============================] - 20s 210ms/step - loss: 0.1263 - accuracy: 0.9546 - val_loss: 0.3506 - val_accuracy: 0.9019\n",
      "Epoch 34/50\n",
      "94/94 [==============================] - 20s 218ms/step - loss: 0.1129 - accuracy: 0.9589 - val_loss: 0.4052 - val_accuracy: 0.8977\n",
      "Epoch 35/50\n",
      "94/94 [==============================] - 20s 212ms/step - loss: 0.1090 - accuracy: 0.9605 - val_loss: 0.3981 - val_accuracy: 0.8992\n",
      "Epoch 36/50\n",
      "94/94 [==============================] - 20s 211ms/step - loss: 0.1162 - accuracy: 0.9578 - val_loss: 0.4097 - val_accuracy: 0.9008\n",
      "Epoch 37/50\n",
      "94/94 [==============================] - 20s 213ms/step - loss: 0.1206 - accuracy: 0.9573 - val_loss: 0.3809 - val_accuracy: 0.8971\n",
      "Epoch 38/50\n",
      "94/94 [==============================] - 20s 214ms/step - loss: 0.1056 - accuracy: 0.9627 - val_loss: 0.4045 - val_accuracy: 0.9014\n",
      "Epoch 39/50\n",
      "94/94 [==============================] - 20s 215ms/step - loss: 0.1039 - accuracy: 0.9646 - val_loss: 0.4025 - val_accuracy: 0.9020\n",
      "Epoch 40/50\n",
      "94/94 [==============================] - 20s 213ms/step - loss: 0.0963 - accuracy: 0.9651 - val_loss: 0.4074 - val_accuracy: 0.9013\n",
      "Epoch 41/50\n",
      "94/94 [==============================] - 20s 211ms/step - loss: 0.0914 - accuracy: 0.9671 - val_loss: 0.4246 - val_accuracy: 0.8983\n",
      "Epoch 42/50\n",
      "94/94 [==============================] - 20s 211ms/step - loss: 0.0951 - accuracy: 0.9664 - val_loss: 0.4675 - val_accuracy: 0.8967\n",
      "Epoch 43/50\n",
      "94/94 [==============================] - 20s 215ms/step - loss: 0.0912 - accuracy: 0.9665 - val_loss: 0.4411 - val_accuracy: 0.8933\n",
      "Epoch 44/50\n",
      "94/94 [==============================] - 20s 214ms/step - loss: 0.0839 - accuracy: 0.9710 - val_loss: 0.4355 - val_accuracy: 0.8998\n",
      "Epoch 45/50\n",
      "94/94 [==============================] - 20s 212ms/step - loss: 0.0845 - accuracy: 0.9703 - val_loss: 0.4591 - val_accuracy: 0.8978\n",
      "Epoch 46/50\n",
      "94/94 [==============================] - 20s 212ms/step - loss: 0.0836 - accuracy: 0.9710 - val_loss: 0.4870 - val_accuracy: 0.8933\n",
      "Epoch 47/50\n",
      "94/94 [==============================] - 20s 213ms/step - loss: 0.0819 - accuracy: 0.9710 - val_loss: 0.4617 - val_accuracy: 0.8967\n",
      "Epoch 48/50\n",
      "94/94 [==============================] - 20s 212ms/step - loss: 0.0815 - accuracy: 0.9709 - val_loss: 0.4526 - val_accuracy: 0.8988\n",
      "Epoch 49/50\n",
      "94/94 [==============================] - 20s 211ms/step - loss: 0.0761 - accuracy: 0.9722 - val_loss: 0.4908 - val_accuracy: 0.8932\n",
      "Epoch 50/50\n",
      "94/94 [==============================] - 20s 210ms/step - loss: 0.0797 - accuracy: 0.9710 - val_loss: 0.5107 - val_accuracy: 0.8934\n",
      "313/313 [==============================] - 2s 7ms/step - loss: 0.5283 - accuracy: 0.8946\n"
     ]
    },
    {
     "data": {
      "text/plain": [
       "[0.5282937288284302, 0.894599974155426]"
      ]
     },
     "execution_count": 21,
     "metadata": {},
     "output_type": "execute_result"
    }
   ],
   "source": [
    "cnn_model3 = keras.models.Sequential([\n",
    "                         keras.layers.Conv2D(filters=64, kernel_size=3, strides=(1,1), padding='valid',activation= 'relu', input_shape=[28,28,1]),\n",
    "                         keras.layers.MaxPooling2D(pool_size=(2,2)),\n",
    "                         keras.layers.Conv2D(filters=128, kernel_size=3, strides=(2,2), padding='same', activation='relu'),\n",
    "                         keras.layers.MaxPooling2D(pool_size=(2,2)),\n",
    "                         keras.layers.Conv2D(filters=64, kernel_size=3, strides=(2,2), padding='same', activation='relu'),\n",
    "                         keras.layers.MaxPooling2D(pool_size=(2,2)),\n",
    "                         keras.layers.Flatten(),\n",
    "                         keras.layers.Dense(units=128, activation='relu'),\n",
    "                         keras.layers.Dropout(0.25),\n",
    "                         keras.layers.Dense(units=256, activation='relu'),\n",
    "                         keras.layers.Dropout(0.5),\n",
    "                         keras.layers.Dense(units=256, activation='relu'),\n",
    "                         keras.layers.Dropout(0.25),                        \n",
    "                         keras.layers.Dense(units=128, activation='relu'),\n",
    "                         keras.layers.Dropout(0.10),                         \n",
    "                         keras.layers.Dense(units=10, activation='softmax')\n",
    "                         ])\n",
    "\n",
    "# complie the model\n",
    "cnn_model3.compile(optimizer='adam', loss= 'sparse_categorical_crossentropy', metrics=['accuracy'])\n",
    " \n",
    "#Train the Model\n",
    "cnn_model3.fit(X_train, y_train, epochs=50, batch_size=512, verbose=1, validation_data=(X_validation, y_validation))\n",
    " \n",
    "cnn_model3.save('fashion_mnist_cnn_model3.h5')\n",
    " \n",
    "cnn_model3.evaluate(X_test, y_test)\n",
    " \n"
   ]
  },
  {
   "cell_type": "code",
   "execution_count": 22,
   "id": "90fcec0d-182e-4ac2-b18b-5f64bda9ad30",
   "metadata": {},
   "outputs": [
    {
     "name": "stdout",
     "output_type": "stream",
     "text": [
      "313/313 [==============================] - 2s 6ms/step - loss: 0.5283 - accuracy: 0.8946\n"
     ]
    },
    {
     "data": {
      "text/plain": [
       "[0.5282937288284302, 0.894599974155426]"
      ]
     },
     "execution_count": 22,
     "metadata": {},
     "output_type": "execute_result"
    }
   ],
   "source": [
    " \n",
    "cnn_model3.save('fashion_mnist_cnn_model3.h5')\n",
    " \n",
    "cnn_model3.evaluate(X_test, y_test)\n",
    " \n",
    "#End"
   ]
  },
  {
   "cell_type": "code",
   "execution_count": null,
   "id": "b5a37f50-6a76-40c4-9a5c-38efe74aead9",
   "metadata": {},
   "outputs": [],
   "source": []
  }
 ],
 "metadata": {
  "kernelspec": {
   "display_name": "Python 3 (ipykernel)",
   "language": "python",
   "name": "python3"
  },
  "language_info": {
   "codemirror_mode": {
    "name": "ipython",
    "version": 3
   },
   "file_extension": ".py",
   "mimetype": "text/x-python",
   "name": "python",
   "nbconvert_exporter": "python",
   "pygments_lexer": "ipython3",
   "version": "3.11.0"
  }
 },
 "nbformat": 4,
 "nbformat_minor": 5
}
